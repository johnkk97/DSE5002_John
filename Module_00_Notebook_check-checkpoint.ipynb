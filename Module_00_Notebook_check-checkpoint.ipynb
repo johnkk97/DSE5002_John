{
 "cells": [
  {
   "cell_type": "markdown",
   "id": "201b7f43-9114-420b-b8d8-0f8d9c70c8b1",
   "metadata": {},
   "source": [
    "# Module 00,   DSE5001\n",
    "\n",
    "Checking on the installation of Jupyter notebooks\n",
    "\n",
    "Change the code cell below so it prints your name instead of mine\n",
    "\n",
    "Then print to pdf from the browser options and submit this"
   ]
  },
  {
   "cell_type": "code",
   "execution_count": 1,
   "id": "2ca14791-0cdd-4e91-8fcb-1359d6489c66",
   "metadata": {},
   "outputs": [
    {
     "name": "stdout",
     "output_type": "stream",
     "text": [
      "Hello John Killian!\n"
     ]
    }
   ],
   "source": [
    "print(\"Hello John Killian!\")"
   ]
  },
  {
   "cell_type": "code",
   "execution_count": null,
   "id": "a998caf6-6202-4f0a-be61-2b87271800c8",
   "metadata": {},
   "outputs": [],
   "source": []
  }
 ],
 "metadata": {
  "kernelspec": {
   "display_name": "Python 3 (ipykernel)",
   "language": "python",
   "name": "python3"
  },
  "language_info": {
   "codemirror_mode": {
    "name": "ipython",
    "version": 3
   },
   "file_extension": ".py",
   "mimetype": "text/x-python",
   "name": "python",
   "nbconvert_exporter": "python",
   "pygments_lexer": "ipython3",
   "version": "3.12.9"
  }
 },
 "nbformat": 4,
 "nbformat_minor": 5
}
